{
  "nbformat": 4,
  "nbformat_minor": 0,
  "metadata": {
    "colab": {
      "name": "Assignment4.ipynb",
      "provenance": [],
      "mount_file_id": "1FHeSRVHkkmWtzXboO7UXWYDVympXnynC",
      "authorship_tag": "ABX9TyPnGCbnfZv0ICaVZpocdDGy",
      "include_colab_link": true
    },
    "kernelspec": {
      "name": "python3",
      "display_name": "Python 3"
    },
    "language_info": {
      "name": "python"
    }
  },
  "cells": [
    {
      "cell_type": "markdown",
      "metadata": {
        "id": "view-in-github",
        "colab_type": "text"
      },
      "source": [
        "<a href=\"https://colab.research.google.com/github/Niveditha-A/DataScience-assignment/blob/main/Assignment4.ipynb\" target=\"_parent\"><img src=\"https://colab.research.google.com/assets/colab-badge.svg\" alt=\"Open In Colab\"/></a>"
      ]
    },
    {
      "cell_type": "code",
      "execution_count": 1,
      "metadata": {
        "id": "TeLCq_B94av1"
      },
      "outputs": [],
      "source": [
        "import numpy as np"
      ]
    },
    {
      "cell_type": "code",
      "source": [
        "from google.colab import drive\n",
        "drive.mount('/content/drive')"
      ],
      "metadata": {
        "id": "4KPJF6h44qtN"
      },
      "execution_count": null,
      "outputs": []
    },
    {
      "cell_type": "code",
      "source": [
        "phi = np.loadtxt('drive/My Drive/train.csv', dtype='float', delimiter=',', skiprows=1,\n",
        "                 usecols=tuple(range(1, 14)))"
      ],
      "metadata": {
        "id": "sQ635jiA40pL"
      },
      "execution_count": 5,
      "outputs": []
    },
    {
      "cell_type": "code",
      "source": [
        "y = np.loadtxt('drive/My Drive/train.csv', dtype='float', delimiter=',', skiprows=1,\n",
        "               usecols=14, ndmin=2)"
      ],
      "metadata": {
        "id": "ddW16hHq5Ns7"
      },
      "execution_count": 6,
      "outputs": []
    },
    {
      "cell_type": "code",
      "source": [
        "phi_test = np.loadtxt('drive/My Drive/test.csv', dtype='float', delimiter=',',\n",
        "                      skiprows=1, usecols=tuple(range(1, 14)))"
      ],
      "metadata": {
        "id": "WSmKz1ok5RTo"
      },
      "execution_count": 7,
      "outputs": []
    },
    {
      "cell_type": "code",
      "source": [
        "phi_test = np.concatenate((phi_test, np.ones((105, 1))), axis=1)\n",
        "phi = np.concatenate((phi, np.ones((400, 1))), axis=1)"
      ],
      "metadata": {
        "id": "QrzHrVAb5Z2X"
      },
      "execution_count": 8,
      "outputs": []
    },
    {
      "cell_type": "code",
      "source": [
        "for i in range(0, 13):\n",
        "    col_max = max(phi[:, i])\n",
        "    col_min = min(phi[:, i])\n",
        "    phi[:, i] = (phi[:, i] - col_min) / (col_max - col_min)\n",
        "    phi_test[:, i] = (phi_test[:, i] - col_min) / (col_max - col_min)"
      ],
      "metadata": {
        "id": "UADzBwXl5c9J"
      },
      "execution_count": 9,
      "outputs": []
    },
    {
      "cell_type": "code",
      "source": [
        "y = np.log(y)"
      ],
      "metadata": {
        "id": "GOGY3zqF5g9Q"
      },
      "execution_count": 10,
      "outputs": []
    },
    {
      "cell_type": "code",
      "source": [
        "def delta_w(p, phi, w):\n",
        "    if p == 2:\n",
        "        deltaw = (2 * (np.dot(np.dot(np.transpose(phi), phi), w) -\n",
        "                       np.dot(np.transpose(phi), y)) +\n",
        "                  lambd * p * np.power(np.absolute(w), (p - 1)))\n",
        "    if p < 2 and p > 1:\n",
        "        deltaw = (2 * (np.dot(np.dot(np.transpose(phi), phi), w) -\n",
        "                       np.dot(np.transpose(phi), y)) +\n",
        "                  lambd * p * np.power(np.absolute(w), (p - 1)) * np.sign(w))\n",
        "    return deltaw"
      ],
      "metadata": {
        "id": "84I2ewX05jfn"
      },
      "execution_count": 11,
      "outputs": []
    },
    {
      "cell_type": "code",
      "source": [
        "filenames = {'output.csv': 2.0,\n",
        "             'output_p1.csv': 1.75,\n",
        "             'output_p2.csv': 1.5,\n",
        "             'output_p3.csv': 1.3\n",
        "             }"
      ],
      "metadata": {
        "id": "JCItyc2p5mwl"
      },
      "execution_count": 12,
      "outputs": []
    },
    {
      "cell_type": "code",
      "source": [
        "for (fname, p) in filenames.items():\n",
        "    # Set initial w to zeros\n",
        "    w = np.zeros((14, 1))"
      ],
      "metadata": {
        "id": "BXkVj7WL5prU"
      },
      "execution_count": 13,
      "outputs": []
    },
    {
      "cell_type": "code",
      "source": [
        "lambd = 0.2\n",
        "t = 0.00012"
      ],
      "metadata": {
        "id": "DcMVixXB5sHR"
      },
      "execution_count": 14,
      "outputs": []
    },
    {
      "cell_type": "code",
      "source": [
        "w_new = w - t * delta_w(p, phi, w)"
      ],
      "metadata": {
        "id": "EWUyab3m5ydU"
      },
      "execution_count": 15,
      "outputs": []
    },
    {
      "cell_type": "code",
      "source": [
        "i = 0\n",
        "while(np.linalg.norm(w_new-w) > 10 ** -10):\n",
        "        w = w_new\n",
        "        w_new = w - t * delta_w(p, phi, w)\n",
        "        i = i + 1"
      ],
      "metadata": {
        "id": "f-hQWLwm53uO"
      },
      "execution_count": 16,
      "outputs": []
    },
    {
      "cell_type": "code",
      "source": [
        "id_test = np.loadtxt('drive/My Drive/test.csv', dtype='int', delimiter=',',\n",
        "                         skiprows=1, usecols=0, ndmin=2)\n",
        "y_test = np.exp(np.dot(phi_test, w_new))"
      ],
      "metadata": {
        "id": "1Uo-bqlR58Cx"
      },
      "execution_count": 18,
      "outputs": []
    },
    {
      "cell_type": "code",
      "source": [
        "np.savetxt(fname, np.concatenate((id_test, y_test), axis=1),\n",
        "               delimiter=',', fmt=['%d', '%f'], header='ID,MEDV', comments='')"
      ],
      "metadata": {
        "id": "k1vrhakm6FS9"
      },
      "execution_count": 19,
      "outputs": []
    }
  ]
}